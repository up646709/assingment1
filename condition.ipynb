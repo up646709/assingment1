{
 "cells": [
  {
   "cell_type": "code",
   "execution_count": 4,
   "id": "e657e28e-88bf-4c4a-a251-93b4066176d7",
   "metadata": {},
   "outputs": [
    {
     "name": "stdin",
     "output_type": "stream",
     "text": [
      "Enter your marks 45\n"
     ]
    },
    {
     "name": "stdout",
     "output_type": "stream",
     "text": [
      "You will be part of A2 batch\n"
     ]
    }
   ],
   "source": [
    "marks = int (input(\"Enter your marks\"))\n",
    "if marks >= 80:\n",
    "    print(\"You will be a part of A0 batch\")\n",
    "elif marks >= 60 and marks<80:\n",
    "    print(\"you will a part of A1 batch\")\n",
    "elif marks >= 40 and marks < 60:\n",
    "    print(\"You will be part of A2 batch\")\n",
    "else:\n",
    "    print(\"You Will be part of A3 batch\")\n",
    "    \n"
   ]
  },
  {
   "cell_type": "code",
   "execution_count": 11,
   "id": "fda26e7a-ed0a-4bbe-8778-773275f2ff41",
   "metadata": {},
   "outputs": [
    {
     "name": "stdin",
     "output_type": "stream",
     "text": [
      "Enter the price 7000\n"
     ]
    },
    {
     "name": "stdout",
     "output_type": "stream",
     "text": [
      "i will not purches\n"
     ]
    }
   ],
   "source": [
    "price = int(input(\"Enter the price\"))\n",
    "if price > 1000:\n",
    "    print(\"i will not purches\")\n",
    "else:\n",
    "    print(\"I will purchase\")\n",
    "    if price > 5000:\n",
    "         print(\"this is too much\")"
   ]
  },
  {
   "cell_type": "code",
   "execution_count": 12,
   "id": "a60991ab-8bd4-4b51-a287-b6d4271ec80e",
   "metadata": {},
   "outputs": [],
   "source": [
    "l = [1,2,3,4,5,6,7,8,9,3,4,5,6]"
   ]
  },
  {
   "cell_type": "code",
   "execution_count": 15,
   "id": "a01cf574-dd9b-4004-93fa-eecc08b4ff76",
   "metadata": {},
   "outputs": [
    {
     "name": "stdout",
     "output_type": "stream",
     "text": [
      "2\n",
      "3\n",
      "4\n",
      "5\n",
      "6\n",
      "7\n",
      "8\n",
      "9\n",
      "10\n",
      "4\n",
      "5\n",
      "6\n",
      "7\n"
     ]
    },
    {
     "data": {
      "text/plain": [
       "[2, 3, 4, 5, 6, 7, 8, 9, 10, 4, 5, 6, 7]"
      ]
     },
     "execution_count": 15,
     "metadata": {},
     "output_type": "execute_result"
    }
   ],
   "source": [
    "l1 = []\n",
    "for i in l:\n",
    "    print(i+1)\n",
    "    l1.append(i+1)\n",
    "l1"
   ]
  },
  {
   "cell_type": "code",
   "execution_count": 16,
   "id": "eecfb6b3-ad3c-47c9-a567-e161b24b3f12",
   "metadata": {},
   "outputs": [],
   "source": [
    "l = [\"upendr\", \"kumar\", \"patel\",\"cours\"]"
   ]
  },
  {
   "cell_type": "code",
   "execution_count": 19,
   "id": "8f92d9ed-a80b-44a7-ac0c-52aafbc1bc66",
   "metadata": {},
   "outputs": [
    {
     "name": "stdout",
     "output_type": "stream",
     "text": [
      "upendr\n",
      "kumar\n",
      "patel\n",
      "cours\n"
     ]
    }
   ],
   "source": [
    "l1 = []\n",
    "for i in l :\n",
    "    print(i)\n",
    "    l1.append(i.upper())\n",
    "   "
   ]
  },
  {
   "cell_type": "code",
   "execution_count": 20,
   "id": "cd5e8d15-7401-4e39-90c4-c2463990aac5",
   "metadata": {},
   "outputs": [
    {
     "data": {
      "text/plain": [
       "['UPENDR', 'KUMAR', 'PATEL', 'COURS']"
      ]
     },
     "execution_count": 20,
     "metadata": {},
     "output_type": "execute_result"
    }
   ],
   "source": [
    "l1"
   ]
  },
  {
   "cell_type": "code",
   "execution_count": 21,
   "id": "eb1abe27-061b-4464-938c-970afaf49142",
   "metadata": {},
   "outputs": [],
   "source": [
    " l = [1,2,3,4,5,6 , \"upen\" ,\"kumar\", 324,43.56,\"abc\"]"
   ]
  },
  {
   "cell_type": "code",
   "execution_count": 22,
   "id": "3bfd2404-6417-4264-ab4c-d7b0eecf8267",
   "metadata": {},
   "outputs": [],
   "source": [
    "l1_num = []\n",
    "l2_str = []\n",
    "for i in l :\n",
    "    if type(i) == int or type(i) == float :\n",
    "        l1_num.append(i)\n",
    "    else : \n",
    "        l2_str.append(i)\n",
    "    "
   ]
  },
  {
   "cell_type": "code",
   "execution_count": 23,
   "id": "38263098-4222-4770-9f02-321c6e676697",
   "metadata": {},
   "outputs": [
    {
     "data": {
      "text/plain": [
       "[1, 2, 3, 4, 5, 6, 324, 43.56]"
      ]
     },
     "execution_count": 23,
     "metadata": {},
     "output_type": "execute_result"
    }
   ],
   "source": [
    "l1_num"
   ]
  },
  {
   "cell_type": "code",
   "execution_count": 24,
   "id": "9de7ab59-3a01-426b-80a5-16e95274ad07",
   "metadata": {},
   "outputs": [
    {
     "data": {
      "text/plain": [
       "['upen', 'kumar', 'abc']"
      ]
     },
     "execution_count": 24,
     "metadata": {},
     "output_type": "execute_result"
    }
   ],
   "source": [
    "l2_str"
   ]
  },
  {
   "cell_type": "code",
   "execution_count": null,
   "id": "59e8812a-a0f4-4c79-a3d8-8d0ffbaddfe8",
   "metadata": {},
   "outputs": [],
   "source": []
  }
 ],
 "metadata": {
  "kernelspec": {
   "display_name": "Python 3 (ipykernel)",
   "language": "python",
   "name": "python3"
  },
  "language_info": {
   "codemirror_mode": {
    "name": "ipython",
    "version": 3
   },
   "file_extension": ".py",
   "mimetype": "text/x-python",
   "name": "python",
   "nbconvert_exporter": "python",
   "pygments_lexer": "ipython3",
   "version": "3.10.6"
  }
 },
 "nbformat": 4,
 "nbformat_minor": 5
}
